{
 "cells": [
  {
   "cell_type": "code",
   "execution_count": 2355,
   "metadata": {
    "collapsed": false
   },
   "outputs": [
    {
     "name": "stdout",
     "output_type": "stream",
     "text": [
      "Closing previously open snapshots/dvid_source_test.hdf\n",
      "Adding dataset snapshots/dvid_source_test.hdf/volumes/labels/mask as 1\n",
      "Adding dataset snapshots/dvid_source_test.hdf/volumes/labels/neuron_ids as 2\n",
      "Adding dataset snapshots/dvid_source_test.hdf/volumes/raw as 3\n"
     ]
    },
    {
     "data": {
      "text/html": [
       "<iframe src=\"http://localhost:8888/neuroglancer#!%7B%22layers%22:%7B%22snapshots/dvid_source_test.hdf/volumes/labels/mask%22:%7B%22source%22:%22python://http://localhost:8888/5e1238ff4ae670ddbd3306068c1edba57bb0cfea%22,%22type%22:%22image%22%7D,%22snapshots/dvid_source_test.hdf/volumes/labels/neuron_ids%22:%7B%22source%22:%22python://http://localhost:8888/793b6e1da0e032b58400279ffc08c824c0fe5003%22,%22type%22:%22segmentation%22%7D,%22snapshots/dvid_source_test.hdf/volumes/raw%22:%7B%22source%22:%22python://http://localhost:8888/92acefc9a1bf589c81bb025c5cd3d4918c9bebda%22,%22type%22:%22image%22%7D%7D%7D\" width=\"100%\" height=\"1024px\"><\\iframe>"
      ],
      "text/plain": [
       "<IPython.core.display.HTML object>"
      ]
     },
     "execution_count": 2355,
     "metadata": {},
     "output_type": "execute_result"
    }
   ],
   "source": [
    "import nyroglancer\n",
    "\n",
    "viewer = nyroglancer.Hdf5Viewer('snapshots/dvid_source_test.hdf')\n",
    "viewer.show()"
   ]
  }
 ],
 "metadata": {
  "kernelspec": {
   "display_name": "Python 2",
   "language": "python",
   "name": "python2"
  },
  "language_info": {
   "codemirror_mode": {
    "name": "ipython",
    "version": 2
   },
   "file_extension": ".py",
   "mimetype": "text/x-python",
   "name": "python",
   "nbconvert_exporter": "python",
   "pygments_lexer": "ipython2",
   "version": "2.7.13"
  }
 },
 "nbformat": 4,
 "nbformat_minor": 1
}
